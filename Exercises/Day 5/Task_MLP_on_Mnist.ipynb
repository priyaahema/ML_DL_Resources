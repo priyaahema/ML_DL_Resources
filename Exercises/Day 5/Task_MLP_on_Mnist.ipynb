{
  "nbformat": 4,
  "nbformat_minor": 0,
  "metadata": {
    "colab": {
      "provenance": []
    },
    "kernelspec": {
      "name": "python3",
      "display_name": "Python 3"
    },
    "language_info": {
      "name": "python"
    }
  },
  "cells": [
    {
      "cell_type": "markdown",
      "source": [
        "# HandsOn - MLP on MNIST dataset\n",
        "\n",
        "▶ The MNIST database (Modified National Institute of Standards and Technology database) is a large database of handwritten digits that is commonly used for training various image processing systems.\n",
        "\n",
        "▶ The MNIST data consists of 60,000 training images and 10,000 test images.\n",
        "\n",
        "▶ Each image is a crude 28 x 28 (784 pixels) handwritten digit from \"0\" to \"9.\" Each pixel value is a grayscale integer between 0 and 255."
      ],
      "metadata": {
        "id": "B3-_L8iItqEj"
      }
    },
    {
      "cell_type": "markdown",
      "source": [
        "**Import essential libraries**"
      ],
      "metadata": {
        "id": "Ym82h9aYvIqn"
      }
    },
    {
      "cell_type": "code",
      "execution_count": null,
      "metadata": {
        "id": "Vfma4S11slBi"
      },
      "outputs": [],
      "source": [
        "\"\"\"\n",
        "keras.datasets :  holds a list of custom pre-built datasets for ready use\n",
        "keras.utils : package that contains utils / helper functions for pre-processing data\n",
        "\"\"\"\n",
        "\n",
        "#Importing MNIST dataset\n",
        "from keras.datasets import mnist\n",
        "# The np_utils module provides utilities for converting data types and manipulating arrays.\n",
        "from keras.utils import np_utils"
      ]
    },
    {
      "cell_type": "code",
      "source": [
        "\"\"\"\n",
        "matplotlib : collection of functions that creates various types of plots and visualizations.\n",
        "matplotlib inline :  to set the backend of matplotlib to inline, ensuring that plots are displayed within the notebook cells.\n",
        "\"\"\"\n",
        "import matplotlib.pyplot as plt\n",
        "%matplotlib inline\n",
        "import numpy as np"
      ],
      "metadata": {
        "id": "93ZgBlyixOR5"
      },
      "execution_count": null,
      "outputs": []
    },
    {
      "cell_type": "markdown",
      "source": [
        "**Load dataset**"
      ],
      "metadata": {
        "id": "LS9yuuFUyI-V"
      }
    },
    {
      "cell_type": "code",
      "source": [
        "\"\"\"\n",
        "X_train : input data, which are images of handwritten digits\n",
        "y_train : the corresponding labels, which are the actual digits represented in the images.\n",
        "X_test  : the input data for testing\n",
        "y_test  : the corresponding labels for the testing data.\n",
        "\n",
        "\"\"\"\n",
        "\n",
        "#load_data : unpacks the data into tuples : (X_train, y_train) and (X_test, y_test)\n",
        "(X_train, y_train), (X_test, y_test) = mnist.load_data()"
      ],
      "metadata": {
        "colab": {
          "base_uri": "https://localhost:8080/"
        },
        "id": "VJw7TJNGxOJm",
        "outputId": "364948d1-f5eb-47fb-c256-c6730332e4ea"
      },
      "execution_count": null,
      "outputs": [
        {
          "output_type": "stream",
          "name": "stdout",
          "text": [
            "Downloading data from https://storage.googleapis.com/tensorflow/tf-keras-datasets/mnist.npz\n",
            "11490434/11490434 [==============================] - 0s 0us/step\n"
          ]
        }
      ]
    },
    {
      "cell_type": "code",
      "source": [
        "print(X_train[1].shape)"
      ],
      "metadata": {
        "id": "0GyVZghB48mY",
        "colab": {
          "base_uri": "https://localhost:8080/"
        },
        "outputId": "fc1600cc-e4a6-4985-87f9-b0426fa7259e"
      },
      "execution_count": null,
      "outputs": [
        {
          "output_type": "stream",
          "name": "stdout",
          "text": [
            "(28, 28)\n"
          ]
        }
      ]
    },
    {
      "cell_type": "code",
      "source": [
        "\"\"\"\n",
        ".shape : helps to view the dimensions of the numpy array\n",
        "\"\"\"\n",
        "\n",
        "print(X_train.shape)\n",
        "print(y_train.shape)\n",
        "print(X_test.shape)\n",
        "print(y_test.shape)"
      ],
      "metadata": {
        "colab": {
          "base_uri": "https://localhost:8080/"
        },
        "id": "fjn2Z0oLxN40",
        "outputId": "70e04913-1cfd-4746-e660-d7b593b713d2"
      },
      "execution_count": null,
      "outputs": [
        {
          "output_type": "stream",
          "name": "stdout",
          "text": [
            "(60000, 28, 28)\n",
            "(60000,)\n",
            "(10000, 28, 28)\n",
            "(10000,)\n"
          ]
        }
      ]
    },
    {
      "cell_type": "code",
      "source": [
        "print(\"Number of training examples :\", X_train.shape[0], \"and each image is of shape (%d, %d)\"%(X_train.shape[1], X_train.shape[2]))\n",
        "print(\"Number of training examples :\", X_test.shape[0], \"and each image is of shape (%d, %d)\"%(X_test.shape[1], X_test.shape[2]))"
      ],
      "metadata": {
        "colab": {
          "base_uri": "https://localhost:8080/"
        },
        "id": "tAisq2owy59E",
        "outputId": "f7381b2b-8d65-4d91-b88e-08ee5ddd1997"
      },
      "execution_count": null,
      "outputs": [
        {
          "output_type": "stream",
          "name": "stdout",
          "text": [
            "Number of training examples : 60000 and each image is of shape (28, 28)\n",
            "Number of training examples : 10000 and each image is of shape (28, 28)\n"
          ]
        }
      ]
    },
    {
      "cell_type": "markdown",
      "source": [
        "**Visualizing train and test images**"
      ],
      "metadata": {
        "id": "FhNbP4UzzkMs"
      }
    },
    {
      "cell_type": "code",
      "source": [
        "\"\"\"\n",
        "plt.subplot() : divides the figure into a grid of subplots.\n",
        "330 : shorthand notation for a 3x3 grid of subplots\n",
        "1 + i : the position of the current subplot within the grid.\n",
        "\"\"\"\n",
        "\n",
        "for i in range(9):\n",
        " # define subplot\n",
        " plt.subplot(330 + 1 + i)\n",
        " # plot raw pixel data\n",
        " plt.imshow(X_train[i], cmap=plt.get_cmap('gray'))\n",
        "# show the figure\n",
        "plt.show()"
      ],
      "metadata": {
        "colab": {
          "base_uri": "https://localhost:8080/",
          "height": 433
        },
        "id": "EXjTylMGzePA",
        "outputId": "a50f69af-71d1-4eff-ac59-a48dbbadb3ec"
      },
      "execution_count": null,
      "outputs": [
        {
          "output_type": "display_data",
          "data": {
            "text/plain": [
              "<Figure size 640x480 with 9 Axes>"
            ],
            "image/png": "[encoded data removed]"
          },
          "metadata": {}
        }
      ]
    },
    {
      "cell_type": "markdown",
      "source": [
        "**Pre-processing : Training data**\n",
        "\n",
        "---\n",
        "\n",
        "> Reshape array\n",
        "\n",
        "> Normalize data\n",
        "\n",
        "> Do labelling\n"
      ],
      "metadata": {
        "id": "GUJy_0su0_y4"
      }
    },
    {
      "cell_type": "code",
      "source": [
        "\"\"\"\n",
        "Reshaping the input data from a 2D format to a 1D format\n",
        "\n",
        "X_train.shape[0] : the number of samples in the training dataset.\n",
        "X_train.shape[1] : the height of each image.\n",
        "X_train.shape[2] : the width of each image.\n",
        "\n",
        "rows = number of samples\n",
        "columns = height * width (28 * 28 = 784)\n",
        "\n",
        "\"\"\"\n",
        "\n",
        "#convert 2d to 1d\n",
        "X_train = X_train.reshape(X_train.shape[0], X_train.shape[1]*X_train.shape[2])\n",
        "X_test = X_test.reshape(X_test.shape[0], X_test.shape[1]*X_test.shape[2])"
      ],
      "metadata": {
        "id": "r5nOs7wy00h5"
      },
      "execution_count": null,
      "outputs": []
    },
    {
      "cell_type": "code",
      "source": [
        "\"\"\"\n",
        ".shape : helps to view the dimensions of the input array\n",
        "\"\"\"\n",
        "\n",
        "print(X_train.shape)\n",
        "print(X_test.shape)"
      ],
      "metadata": {
        "colab": {
          "base_uri": "https://localhost:8080/"
        },
        "id": "AtVS9QR01yHT",
        "outputId": "e5bcfef5-e1f7-4718-d938-770057dbd6d0"
      },
      "execution_count": null,
      "outputs": [
        {
          "output_type": "stream",
          "name": "stdout",
          "text": [
            "(60000, 784)\n",
            "(10000, 784)\n"
          ]
        }
      ]
    },
    {
      "cell_type": "code",
      "source": [
        "print(X_train[0])"
      ],
      "metadata": {
        "colab": {
          "base_uri": "https://localhost:8080/"
        },
        "id": "sfYRy8LIg2ct",
        "outputId": "53578677-293c-4c2b-b8ae-db853a408488"
      },
      "execution_count": null,
      "outputs": [
        {
          "output_type": "stream",
          "name": "stdout",
          "text": [
            "[  0   0   0   0   0   0   0   0   0   0   0   0   0   0   0   0   0   0\n",
            "   0   0   0   0   0   0   0   0   0   0   0   0   0   0   0   0   0   0\n",
            "   0   0   0   0   0   0   0   0   0   0   0   0   0   0   0   0   0   0\n",
            "   0   0   0   0   0   0   0   0   0   0   0   0   0   0   0   0   0   0\n",
            "   0   0   0   0   0   0   0   0   0   0   0   0   0   0   0   0   0   0\n",
            "   0   0   0   0   0   0   0   0   0   0   0   0   0   0   0   0   0   0\n",
            "   0   0   0   0   0   0   0   0   0   0   0   0   0   0   0   0   0   0\n",
            "   0   0   0   0   0   0   0   0   0   0   0   0   0   0   0   0   0   0\n",
            "   0   0   0   0   0   0   0   0   3  18  18  18 126 136 175  26 166 255\n",
            " 247 127   0   0   0   0   0   0   0   0   0   0   0   0  30  36  94 154\n",
            " 170 253 253 253 253 253 225 172 253 242 195  64   0   0   0   0   0   0\n",
            "   0   0   0   0   0  49 238 253 253 253 253 253 253 253 253 251  93  82\n",
            "  82  56  39   0   0   0   0   0   0   0   0   0   0   0   0  18 219 253\n",
            " 253 253 253 253 198 182 247 241   0   0   0   0   0   0   0   0   0   0\n",
            "   0   0   0   0   0   0   0   0  80 156 107 253 253 205  11   0  43 154\n",
            "   0   0   0   0   0   0   0   0   0   0   0   0   0   0   0   0   0   0\n",
            "   0  14   1 154 253  90   0   0   0   0   0   0   0   0   0   0   0   0\n",
            "   0   0   0   0   0   0   0   0   0   0   0   0   0 139 253 190   2   0\n",
            "   0   0   0   0   0   0   0   0   0   0   0   0   0   0   0   0   0   0\n",
            "   0   0   0   0   0  11 190 253  70   0   0   0   0   0   0   0   0   0\n",
            "   0   0   0   0   0   0   0   0   0   0   0   0   0   0   0   0  35 241\n",
            " 225 160 108   1   0   0   0   0   0   0   0   0   0   0   0   0   0   0\n",
            "   0   0   0   0   0   0   0   0   0  81 240 253 253 119  25   0   0   0\n",
            "   0   0   0   0   0   0   0   0   0   0   0   0   0   0   0   0   0   0\n",
            "   0   0  45 186 253 253 150  27   0   0   0   0   0   0   0   0   0   0\n",
            "   0   0   0   0   0   0   0   0   0   0   0   0   0  16  93 252 253 187\n",
            "   0   0   0   0   0   0   0   0   0   0   0   0   0   0   0   0   0   0\n",
            "   0   0   0   0   0   0   0 249 253 249  64   0   0   0   0   0   0   0\n",
            "   0   0   0   0   0   0   0   0   0   0   0   0   0   0  46 130 183 253\n",
            " 253 207   2   0   0   0   0   0   0   0   0   0   0   0   0   0   0   0\n",
            "   0   0   0   0  39 148 229 253 253 253 250 182   0   0   0   0   0   0\n",
            "   0   0   0   0   0   0   0   0   0   0   0   0  24 114 221 253 253 253\n",
            " 253 201  78   0   0   0   0   0   0   0   0   0   0   0   0   0   0   0\n",
            "   0   0  23  66 213 253 253 253 253 198  81   2   0   0   0   0   0   0\n",
            "   0   0   0   0   0   0   0   0   0   0  18 171 219 253 253 253 253 195\n",
            "  80   9   0   0   0   0   0   0   0   0   0   0   0   0   0   0   0   0\n",
            "  55 172 226 253 253 253 253 244 133  11   0   0   0   0   0   0   0   0\n",
            "   0   0   0   0   0   0   0   0   0   0 136 253 253 253 212 135 132  16\n",
            "   0   0   0   0   0   0   0   0   0   0   0   0   0   0   0   0   0   0\n",
            "   0   0   0   0   0   0   0   0   0   0   0   0   0   0   0   0   0   0\n",
            "   0   0   0   0   0   0   0   0   0   0   0   0   0   0   0   0   0   0\n",
            "   0   0   0   0   0   0   0   0   0   0   0   0   0   0   0   0   0   0\n",
            "   0   0   0   0   0   0   0   0   0   0   0   0   0   0   0   0   0   0\n",
            "   0   0   0   0   0   0   0   0   0   0]\n"
          ]
        }
      ]
    },
    {
      "cell_type": "code",
      "source": [
        "\"\"\"\n",
        "Pixel scaling : the original range of 0 to 255 to a new range of 0 to 1.\n",
        "This normalization is done by dividing each pixel value by the maximum value (255 in this case).\n",
        "\n",
        "pixel values are typically represented as integers between 0 and 255,\n",
        "where 0 represents black and 255 represents white.\n",
        "\n",
        "\"\"\"\n",
        "\n",
        "X_train = X_train/255\n",
        "X_test = X_test/255"
      ],
      "metadata": {
        "id": "lfNZKeQA1rjh"
      },
      "execution_count": null,
      "outputs": []
    },
    {
      "cell_type": "code",
      "source": [
        "print(X_train[0])"
      ],
      "metadata": {
        "id": "c_ydwYEJ4o1e",
        "colab": {
          "base_uri": "https://localhost:8080/"
        },
        "outputId": "05b244cc-3073-473d-c468-126200f29ec9"
      },
      "execution_count": null,
      "outputs": [
        {
          "output_type": "stream",
          "name": "stdout",
          "text": [
            "[0.         0.         0.         0.         0.         0.\n",
            " 0.         0.         0.         0.         0.         0.\n",
            " 0.         0.         0.         0.         0.         0.\n",
            " 0.         0.         0.         0.         0.         0.\n",
            " 0.         0.         0.         0.         0.         0.\n",
            " 0.         0.         0.         0.         0.         0.\n",
            " 0.         0.         0.         0.         0.         0.\n",
            " 0.         0.         0.         0.         0.         0.\n",
            " 0.         0.         0.         0.         0.         0.\n",
            " 0.         0.         0.         0.         0.         0.\n",
            " 0.         0.         0.         0.         0.         0.\n",
            " 0.         0.         0.         0.         0.         0.\n",
            " 0.         0.         0.         0.         0.         0.\n",
            " 0.         0.         0.         0.         0.         0.\n",
            " 0.         0.         0.         0.         0.         0.\n",
            " 0.         0.         0.         0.         0.         0.\n",
            " 0.         0.         0.         0.         0.         0.\n",
            " 0.         0.         0.         0.         0.         0.\n",
            " 0.         0.         0.         0.         0.         0.\n",
            " 0.         0.         0.         0.         0.         0.\n",
            " 0.         0.         0.         0.         0.         0.\n",
            " 0.         0.         0.         0.         0.         0.\n",
            " 0.         0.         0.         0.         0.         0.\n",
            " 0.         0.         0.         0.         0.         0.\n",
            " 0.         0.         0.         0.         0.         0.\n",
            " 0.         0.         0.01176471 0.07058824 0.07058824 0.07058824\n",
            " 0.49411765 0.53333333 0.68627451 0.10196078 0.65098039 1.\n",
            " 0.96862745 0.49803922 0.         0.         0.         0.\n",
            " 0.         0.         0.         0.         0.         0.\n",
            " 0.         0.         0.11764706 0.14117647 0.36862745 0.60392157\n",
            " 0.66666667 0.99215686 0.99215686 0.99215686 0.99215686 0.99215686\n",
            " 0.88235294 0.6745098  0.99215686 0.94901961 0.76470588 0.25098039\n",
            " 0.         0.         0.         0.         0.         0.\n",
            " 0.         0.         0.         0.         0.         0.19215686\n",
            " 0.93333333 0.99215686 0.99215686 0.99215686 0.99215686 0.99215686\n",
            " 0.99215686 0.99215686 0.99215686 0.98431373 0.36470588 0.32156863\n",
            " 0.32156863 0.21960784 0.15294118 0.         0.         0.\n",
            " 0.         0.         0.         0.         0.         0.\n",
            " 0.         0.         0.         0.07058824 0.85882353 0.99215686\n",
            " 0.99215686 0.99215686 0.99215686 0.99215686 0.77647059 0.71372549\n",
            " 0.96862745 0.94509804 0.         0.         0.         0.\n",
            " 0.         0.         0.         0.         0.         0.\n",
            " 0.         0.         0.         0.         0.         0.\n",
            " 0.         0.         0.31372549 0.61176471 0.41960784 0.99215686\n",
            " 0.99215686 0.80392157 0.04313725 0.         0.16862745 0.60392157\n",
            " 0.         0.         0.         0.         0.         0.\n",
            " 0.         0.         0.         0.         0.         0.\n",
            " 0.         0.         0.         0.         0.         0.\n",
            " 0.         0.05490196 0.00392157 0.60392157 0.99215686 0.35294118\n",
            " 0.         0.         0.         0.         0.         0.\n",
            " 0.         0.         0.         0.         0.         0.\n",
            " 0.         0.         0.         0.         0.         0.\n",
            " 0.         0.         0.         0.         0.         0.\n",
            " 0.         0.54509804 0.99215686 0.74509804 0.00784314 0.\n",
            " 0.         0.         0.         0.         0.         0.\n",
            " 0.         0.         0.         0.         0.         0.\n",
            " 0.         0.         0.         0.         0.         0.\n",
            " 0.         0.         0.         0.         0.         0.04313725\n",
            " 0.74509804 0.99215686 0.2745098  0.         0.         0.\n",
            " 0.         0.         0.         0.         0.         0.\n",
            " 0.         0.         0.         0.         0.         0.\n",
            " 0.         0.         0.         0.         0.         0.\n",
            " 0.         0.         0.         0.         0.1372549  0.94509804\n",
            " 0.88235294 0.62745098 0.42352941 0.00392157 0.         0.\n",
            " 0.         0.         0.         0.         0.         0.\n",
            " 0.         0.         0.         0.         0.         0.\n",
            " 0.         0.         0.         0.         0.         0.\n",
            " 0.         0.         0.         0.31764706 0.94117647 0.99215686\n",
            " 0.99215686 0.46666667 0.09803922 0.         0.         0.\n",
            " 0.         0.         0.         0.         0.         0.\n",
            " 0.         0.         0.         0.         0.         0.\n",
            " 0.         0.         0.         0.         0.         0.\n",
            " 0.         0.         0.17647059 0.72941176 0.99215686 0.99215686\n",
            " 0.58823529 0.10588235 0.         0.         0.         0.\n",
            " 0.         0.         0.         0.         0.         0.\n",
            " 0.         0.         0.         0.         0.         0.\n",
            " 0.         0.         0.         0.         0.         0.\n",
            " 0.         0.0627451  0.36470588 0.98823529 0.99215686 0.73333333\n",
            " 0.         0.         0.         0.         0.         0.\n",
            " 0.         0.         0.         0.         0.         0.\n",
            " 0.         0.         0.         0.         0.         0.\n",
            " 0.         0.         0.         0.         0.         0.\n",
            " 0.         0.97647059 0.99215686 0.97647059 0.25098039 0.\n",
            " 0.         0.         0.         0.         0.         0.\n",
            " 0.         0.         0.         0.         0.         0.\n",
            " 0.         0.         0.         0.         0.         0.\n",
            " 0.         0.         0.18039216 0.50980392 0.71764706 0.99215686\n",
            " 0.99215686 0.81176471 0.00784314 0.         0.         0.\n",
            " 0.         0.         0.         0.         0.         0.\n",
            " 0.         0.         0.         0.         0.         0.\n",
            " 0.         0.         0.         0.         0.15294118 0.58039216\n",
            " 0.89803922 0.99215686 0.99215686 0.99215686 0.98039216 0.71372549\n",
            " 0.         0.         0.         0.         0.         0.\n",
            " 0.         0.         0.         0.         0.         0.\n",
            " 0.         0.         0.         0.         0.         0.\n",
            " 0.09411765 0.44705882 0.86666667 0.99215686 0.99215686 0.99215686\n",
            " 0.99215686 0.78823529 0.30588235 0.         0.         0.\n",
            " 0.         0.         0.         0.         0.         0.\n",
            " 0.         0.         0.         0.         0.         0.\n",
            " 0.         0.         0.09019608 0.25882353 0.83529412 0.99215686\n",
            " 0.99215686 0.99215686 0.99215686 0.77647059 0.31764706 0.00784314\n",
            " 0.         0.         0.         0.         0.         0.\n",
            " 0.         0.         0.         0.         0.         0.\n",
            " 0.         0.         0.         0.         0.07058824 0.67058824\n",
            " 0.85882353 0.99215686 0.99215686 0.99215686 0.99215686 0.76470588\n",
            " 0.31372549 0.03529412 0.         0.         0.         0.\n",
            " 0.         0.         0.         0.         0.         0.\n",
            " 0.         0.         0.         0.         0.         0.\n",
            " 0.21568627 0.6745098  0.88627451 0.99215686 0.99215686 0.99215686\n",
            " 0.99215686 0.95686275 0.52156863 0.04313725 0.         0.\n",
            " 0.         0.         0.         0.         0.         0.\n",
            " 0.         0.         0.         0.         0.         0.\n",
            " 0.         0.         0.         0.         0.53333333 0.99215686\n",
            " 0.99215686 0.99215686 0.83137255 0.52941176 0.51764706 0.0627451\n",
            " 0.         0.         0.         0.         0.         0.\n",
            " 0.         0.         0.         0.         0.         0.\n",
            " 0.         0.         0.         0.         0.         0.\n",
            " 0.         0.         0.         0.         0.         0.\n",
            " 0.         0.         0.         0.         0.         0.\n",
            " 0.         0.         0.         0.         0.         0.\n",
            " 0.         0.         0.         0.         0.         0.\n",
            " 0.         0.         0.         0.         0.         0.\n",
            " 0.         0.         0.         0.         0.         0.\n",
            " 0.         0.         0.         0.         0.         0.\n",
            " 0.         0.         0.         0.         0.         0.\n",
            " 0.         0.         0.         0.         0.         0.\n",
            " 0.         0.         0.         0.         0.         0.\n",
            " 0.         0.         0.         0.         0.         0.\n",
            " 0.         0.         0.         0.         0.         0.\n",
            " 0.         0.         0.         0.         0.         0.\n",
            " 0.         0.         0.         0.        ]\n"
          ]
        }
      ]
    },
    {
      "cell_type": "markdown",
      "source": [
        "**Pre-processing : Target values**\n"
      ],
      "metadata": {
        "id": "4RJtdmST5KRV"
      }
    },
    {
      "cell_type": "code",
      "source": [
        "print(\"Class label of first image :\", y_train[0])"
      ],
      "metadata": {
        "colab": {
          "base_uri": "https://localhost:8080/"
        },
        "id": "9fNk0lAo5EwI",
        "outputId": "02f4d963-c3ac-4c03-faaa-257a853dba48"
      },
      "execution_count": null,
      "outputs": [
        {
          "output_type": "stream",
          "name": "stdout",
          "text": [
            "Class label of first image : 5\n"
          ]
        }
      ]
    },
    {
      "cell_type": "code",
      "source": [
        "\"\"\"\n",
        "One-hot encoding is a technique used to represent categorical data, such as class labels, as binary vectors.\n",
        "to_categorical() from the np_utils module :\n",
        "      Arguments :\n",
        "          y_train  : original class labels\n",
        "          10.      : total number of classes\n",
        "\n",
        "\"\"\"\n",
        "\n",
        "#One-hot encoding\n",
        "Y_train = np_utils.to_categorical(y_train, 10)\n",
        "Y_test = np_utils.to_categorical(y_test, 10)"
      ],
      "metadata": {
        "id": "DxNT0R9T5Erm"
      },
      "execution_count": null,
      "outputs": []
    },
    {
      "cell_type": "code",
      "source": [
        "\"\"\"\n",
        "Each element of the vector represents the presence or absence of a specific class\n",
        "  1 indicating the presence of the class\n",
        "  0 indicating the absence\n",
        "\"\"\"\n",
        "\n",
        "print(\"After converting the output into a vector : \",Y_train[0])"
      ],
      "metadata": {
        "colab": {
          "base_uri": "https://localhost:8080/"
        },
        "id": "1WgKZtZ64oo1",
        "outputId": "5ae7c9ed-d8b5-4944-9c09-5c519fddf919"
      },
      "execution_count": null,
      "outputs": [
        {
          "output_type": "stream",
          "name": "stdout",
          "text": [
            "After converting the output into a vector :  [0. 0. 0. 0. 0. 1. 0. 0. 0. 0.]\n"
          ]
        }
      ]
    },
    {
      "cell_type": "markdown",
      "source": [
        "**Building a basic Model**"
      ],
      "metadata": {
        "id": "o8ID_w9H6xyS"
      }
    },
    {
      "cell_type": "code",
      "source": [
        "\"\"\"\n",
        "\n",
        "keras.model\n",
        "  -> Sequential : Used to build models layer by layer.\n",
        "                  provides a linear stack of layers, where each layer has exactly one input tensor and one output tensor.\n",
        "\n",
        "keras.layers\n",
        "  -> Dense      : represents a fully connected layer\n",
        "  -> Activation : Functions that introduces non-linearity to the model\n",
        "\n",
        "\"\"\"\n",
        "\n",
        "from keras.models import Sequential\n",
        "from keras.layers import Dense, Activation"
      ],
      "metadata": {
        "id": "maTn2B3b6It7"
      },
      "execution_count": null,
      "outputs": []
    },
    {
      "cell_type": "code",
      "source": [
        "\"\"\"\n",
        "input_dim : number of features(columns) in the input data\n",
        "output_dim : there are 10 possible output classes, corresponding to the digits 0 to 9.\n",
        "\n",
        "\"\"\"\n",
        "\n",
        "input_dim = X_train.shape[1] #784\n",
        "output_dim = 10 #0-9"
      ],
      "metadata": {
        "id": "Tkn_Ge7e9AoP"
      },
      "execution_count": null,
      "outputs": []
    },
    {
      "cell_type": "code",
      "source": [
        "\"\"\"\n",
        "model : an object used to build and train the model\n",
        "\n",
        "model :\n",
        "\n",
        "      - Sequential class - represents a linear stack of layers\n",
        "      - Dense layer : a fully connected layer\n",
        "          - softmax activation : used for multi-class classification problems.\n",
        "\n",
        "      - model compile\n",
        "\"\"\"\n",
        "\n",
        "model = Sequential()\n",
        "model.add(Dense(output_dim, input_dim=input_dim, activation='softmax'))\n",
        "model.compile(optimizer='sgd', loss='categorical_crossentropy', metrics=['accuracy'])"
      ],
      "metadata": {
        "id": "hzfj0JrJ9kMo"
      },
      "execution_count": null,
      "outputs": []
    },
    {
      "cell_type": "code",
      "source": [
        "\"\"\"\n",
        "fit() method trains the model on the given training data and labels\n",
        "\n",
        "Arguments :\n",
        "    - X_train    : input training data, which consists of the preprocessed images after converting them to a 1D format.\n",
        "    - Y_train    : the target training data, which consists of the one-hot encoded labels corresponding to the training data.\n",
        "    - batch_size : the number of samples processed at each iteration before updating the model's parameters.\n",
        "    - epochs     : Iteration or number of times the entire training dataset will be passed through the model during training.\n",
        "    - verbose    : shows the progress bar when training\n",
        "    - validation_data : provides the testing data and labels to be used for validation during training.\n",
        "\n",
        "\"\"\"\n",
        "\n",
        "history = model.fit(X_train, Y_train, batch_size=128, epochs=20, verbose=1, validation_data=(X_test, Y_test))"
      ],
      "metadata": {
        "colab": {
          "base_uri": "https://localhost:8080/"
        },
        "id": "_HpBrV3O-y_F",
        "outputId": "0b6c8eaf-d680-4e57-f124-e48848cf4844"
      },
      "execution_count": null,
      "outputs": [
        {
          "output_type": "stream",
          "name": "stdout",
          "text": [
            "Epoch 1/20\n",
            "469/469 [==============================] - 1s 2ms/step - loss: 1.2604 - accuracy: 0.7089 - val_loss: 0.8045 - val_accuracy: 0.8335\n",
            "Epoch 2/20\n",
            "469/469 [==============================] - 1s 2ms/step - loss: 0.7122 - accuracy: 0.8408 - val_loss: 0.6044 - val_accuracy: 0.8621\n",
            "Epoch 3/20\n",
            "469/469 [==============================] - 1s 2ms/step - loss: 0.5853 - accuracy: 0.8584 - val_loss: 0.5239 - val_accuracy: 0.8746\n",
            "Epoch 4/20\n",
            "469/469 [==============================] - 1s 2ms/step - loss: 0.5244 - accuracy: 0.8686 - val_loss: 0.4787 - val_accuracy: 0.8821\n",
            "Epoch 5/20\n",
            "469/469 [==============================] - 1s 2ms/step - loss: 0.4872 - accuracy: 0.8740 - val_loss: 0.4495 - val_accuracy: 0.8865\n",
            "Epoch 6/20\n",
            "469/469 [==============================] - 1s 2ms/step - loss: 0.4616 - accuracy: 0.8791 - val_loss: 0.4281 - val_accuracy: 0.8896\n",
            "Epoch 7/20\n",
            "469/469 [==============================] - 1s 2ms/step - loss: 0.4425 - accuracy: 0.8831 - val_loss: 0.4120 - val_accuracy: 0.8917\n",
            "Epoch 8/20\n",
            "469/469 [==============================] - 1s 2ms/step - loss: 0.4277 - accuracy: 0.8862 - val_loss: 0.3993 - val_accuracy: 0.8951\n",
            "Epoch 9/20\n",
            "469/469 [==============================] - 1s 2ms/step - loss: 0.4157 - accuracy: 0.8887 - val_loss: 0.3889 - val_accuracy: 0.8984\n",
            "Epoch 10/20\n",
            "469/469 [==============================] - 1s 2ms/step - loss: 0.4057 - accuracy: 0.8911 - val_loss: 0.3807 - val_accuracy: 0.8993\n",
            "Epoch 11/20\n",
            "469/469 [==============================] - 1s 2ms/step - loss: 0.3973 - accuracy: 0.8926 - val_loss: 0.3732 - val_accuracy: 0.9010\n",
            "Epoch 12/20\n",
            "469/469 [==============================] - 1s 2ms/step - loss: 0.3901 - accuracy: 0.8942 - val_loss: 0.3667 - val_accuracy: 0.9029\n",
            "Epoch 13/20\n",
            "469/469 [==============================] - 1s 2ms/step - loss: 0.3837 - accuracy: 0.8956 - val_loss: 0.3613 - val_accuracy: 0.9045\n",
            "Epoch 14/20\n",
            "469/469 [==============================] - 1s 2ms/step - loss: 0.3780 - accuracy: 0.8968 - val_loss: 0.3563 - val_accuracy: 0.9048\n",
            "Epoch 15/20\n",
            "469/469 [==============================] - 1s 2ms/step - loss: 0.3731 - accuracy: 0.8980 - val_loss: 0.3519 - val_accuracy: 0.9059\n",
            "Epoch 16/20\n",
            "469/469 [==============================] - 1s 2ms/step - loss: 0.3685 - accuracy: 0.8992 - val_loss: 0.3478 - val_accuracy: 0.9069\n",
            "Epoch 17/20\n",
            "469/469 [==============================] - 1s 2ms/step - loss: 0.3644 - accuracy: 0.9000 - val_loss: 0.3443 - val_accuracy: 0.9075\n",
            "Epoch 18/20\n",
            "469/469 [==============================] - 1s 2ms/step - loss: 0.3607 - accuracy: 0.9009 - val_loss: 0.3410 - val_accuracy: 0.9087\n",
            "Epoch 19/20\n",
            "469/469 [==============================] - 1s 2ms/step - loss: 0.3572 - accuracy: 0.9014 - val_loss: 0.3381 - val_accuracy: 0.9095\n",
            "Epoch 20/20\n",
            "469/469 [==============================] - 1s 2ms/step - loss: 0.3541 - accuracy: 0.9022 - val_loss: 0.3354 - val_accuracy: 0.9098\n"
          ]
        }
      ]
    },
    {
      "cell_type": "markdown",
      "source": [
        "**Basic model evaluation**"
      ],
      "metadata": {
        "id": "9R54_0KIADLF"
      }
    },
    {
      "cell_type": "code",
      "source": [
        "\"\"\"\n",
        "evaluates the trained neural network model on the testing data (X_test and Y_test)\n",
        "prints the test score and accuracy\n",
        "\n",
        "\"\"\"\n",
        "score = model.evaluate(X_test, Y_test, verbose=0)\n",
        "print('Test score:', score[0])\n",
        "print('Test accuracy:', score[1])"
      ],
      "metadata": {
        "colab": {
          "base_uri": "https://localhost:8080/"
        },
        "id": "KAPflPc9-ynK",
        "outputId": "2a3a0a93-ac76-4a3c-f112-6ddb72f72306"
      },
      "execution_count": null,
      "outputs": [
        {
          "output_type": "stream",
          "name": "stdout",
          "text": [
            "Test score: 0.3354108929634094\n",
            "Test accuracy: 0.9097999930381775\n"
          ]
        }
      ]
    },
    {
      "cell_type": "markdown",
      "source": [
        "**Let's visualize the test results**"
      ],
      "metadata": {
        "id": "HFrZZEtZAxzo"
      }
    },
    {
      "cell_type": "code",
      "source": [
        "\"\"\"\n",
        "image_index : random image (choose < 10000)\n",
        "\n",
        "reshape(28, 28) : the flattened image is set back into a 2D format of 28x28 pixels\n",
        "\n",
        "cmap='Greys' : image will be displayed in black and white.\n",
        "\n",
        "pred[image_index] : retrieves the predicted probabilities for the image at the specified index\n",
        "\n",
        "np.argmax() : index of the maximum value in the predicted probabilities array\n",
        "              indicating the predicted class label.\n",
        "\"\"\"\n",
        "\n",
        "image_index = 120\n",
        "plt.imshow(X_test[image_index].reshape(28, 28),cmap='Greys')\n",
        "pred = model.predict(X_test)\n",
        "print(pred[image_index])\n",
        "print(np.argmax(pred[image_index]))"
      ],
      "metadata": {
        "colab": {
          "base_uri": "https://localhost:8080/",
          "height": 501
        },
        "id": "ONLI-XUC_zql",
        "outputId": "8ee147c6-0790-469f-fc98-cbe2da894168"
      },
      "execution_count": null,
      "outputs": [
        {
          "output_type": "stream",
          "name": "stdout",
          "text": [
            "313/313 [==============================] - 0s 867us/step\n",
            "[6.7770522e-04 7.2967453e-07 1.9659118e-04 1.4975366e-01 8.2245673e-04\n",
            " 7.8422326e-01 2.7833437e-04 5.5354371e-06 6.3690051e-02 3.5180213e-04]\n",
            "5\n"
          ]
        },
        {
          "output_type": "display_data",
          "data": {
            "text/plain": [
              "<Figure size 640x480 with 1 Axes>"
            ],
            "image/png": "[encoded data removed]"
          },
          "metadata": {}
        }
      ]
    },
    {
      "cell_type": "markdown",
      "source": [
        "**Let's dive deep into MLP 💪**"
      ],
      "metadata": {
        "id": "bbIoO0NYCJ6D"
      }
    },
    {
      "cell_type": "code",
      "source": [
        "# lets define constants for readability\n",
        "NB_EPOCHS = 20\n",
        "BATCH_SIZE = 128"
      ],
      "metadata": {
        "id": "XBTAJWNXFb_J"
      },
      "execution_count": null,
      "outputs": []
    },
    {
      "cell_type": "markdown",
      "source": [
        "Model :  MLP + Sigmoid activation + SGDOptimizer"
      ],
      "metadata": {
        "id": "YkWzo03tF6oD"
      }
    },
    {
      "cell_type": "code",
      "source": [
        "\"\"\"\n",
        "model :\n",
        "\n",
        "    Sequential : defines the MLP model\n",
        "    dense_1 : has 512 neurons (specify the input shape)\n",
        "    dense_2 : has 128 neurons (automatically takes the output shape of the previous layer as its input)\n",
        "\n",
        "Summary : defines the model's architecture, showing the number of parameters and the shape of each layer's output.\n",
        "\n",
        "\"\"\"\n",
        "\n",
        "\n",
        "# Multilayer perceptron\n",
        "\n",
        "model_sigmoid = Sequential()\n",
        "model_sigmoid.add(Dense(512, activation='sigmoid', input_shape=(input_dim,)))\n",
        "model_sigmoid.add(Dense(128, activation='sigmoid'))\n",
        "model_sigmoid.add(Dense(output_dim, activation='softmax'))\n",
        "\n",
        "model_sigmoid.summary()\n"
      ],
      "metadata": {
        "colab": {
          "base_uri": "https://localhost:8080/"
        },
        "id": "H9IcO-tUB7v4",
        "outputId": "545337c9-472e-476f-8c13-45cea55dfd40"
      },
      "execution_count": null,
      "outputs": [
        {
          "output_type": "stream",
          "name": "stdout",
          "text": [
            "Model: \"sequential_1\"\n",
            "_________________________________________________________________\n",
            " Layer (type)                Output Shape              Param #   \n",
            "=================================================================\n",
            " dense_1 (Dense)             (None, 512)               401920    \n",
            "                                                                 \n",
            " dense_2 (Dense)             (None, 128)               65664     \n",
            "                                                                 \n",
            " dense_3 (Dense)             (None, 10)                1290      \n",
            "                                                                 \n",
            "=================================================================\n",
            "Total params: 468,874\n",
            "Trainable params: 468,874\n",
            "Non-trainable params: 0\n",
            "_________________________________________________________________\n"
          ]
        }
      ]
    },
    {
      "cell_type": "code",
      "source": [
        "model_sigmoid.compile(optimizer='sgd', loss='categorical_crossentropy', metrics=['accuracy'])\n",
        "history = model_sigmoid.fit(X_train, Y_train, batch_size=BATCH_SIZE, epochs=NB_EPOCHS, verbose=1, validation_data=(X_test, Y_test))"
      ],
      "metadata": {
        "colab": {
          "base_uri": "https://localhost:8080/"
        },
        "id": "3o6vslsZCbFO",
        "outputId": "5b4bf1e2-a346-469f-a910-aefde04a85bc"
      },
      "execution_count": null,
      "outputs": [
        {
          "output_type": "stream",
          "name": "stdout",
          "text": [
            "Epoch 1/20\n",
            "469/469 [==============================] - 7s 12ms/step - loss: 2.2690 - accuracy: 0.2095 - val_loss: 2.2231 - val_accuracy: 0.3945\n",
            "Epoch 2/20\n",
            "469/469 [==============================] - 5s 12ms/step - loss: 2.1817 - accuracy: 0.4363 - val_loss: 2.1282 - val_accuracy: 0.5131\n",
            "Epoch 3/20\n",
            "469/469 [==============================] - 6s 13ms/step - loss: 2.0700 - accuracy: 0.5492 - val_loss: 1.9915 - val_accuracy: 0.6132\n",
            "Epoch 4/20\n",
            "469/469 [==============================] - 5s 11ms/step - loss: 1.9125 - accuracy: 0.6155 - val_loss: 1.8075 - val_accuracy: 0.6481\n",
            "Epoch 5/20\n",
            "469/469 [==============================] - 6s 14ms/step - loss: 1.7114 - accuracy: 0.6633 - val_loss: 1.5871 - val_accuracy: 0.7049\n",
            "Epoch 6/20\n",
            "469/469 [==============================] - 5s 11ms/step - loss: 1.4904 - accuracy: 0.7039 - val_loss: 1.3648 - val_accuracy: 0.7245\n",
            "Epoch 7/20\n",
            "469/469 [==============================] - 6s 14ms/step - loss: 1.2807 - accuracy: 0.7369 - val_loss: 1.1691 - val_accuracy: 0.7608\n",
            "Epoch 8/20\n",
            "469/469 [==============================] - 5s 11ms/step - loss: 1.1051 - accuracy: 0.7621 - val_loss: 1.0135 - val_accuracy: 0.7812\n",
            "Epoch 9/20\n",
            "469/469 [==============================] - 6s 12ms/step - loss: 0.9682 - accuracy: 0.7849 - val_loss: 0.8948 - val_accuracy: 0.8010\n",
            "Epoch 10/20\n",
            "469/469 [==============================] - 7s 15ms/step - loss: 0.8643 - accuracy: 0.8011 - val_loss: 0.8056 - val_accuracy: 0.8118\n",
            "Epoch 11/20\n",
            "469/469 [==============================] - 7s 15ms/step - loss: 0.7843 - accuracy: 0.8134 - val_loss: 0.7348 - val_accuracy: 0.8249\n",
            "Epoch 12/20\n",
            "469/469 [==============================] - 6s 13ms/step - loss: 0.7215 - accuracy: 0.8250 - val_loss: 0.6787 - val_accuracy: 0.8357\n",
            "Epoch 13/20\n",
            "469/469 [==============================] - 7s 15ms/step - loss: 0.6709 - accuracy: 0.8343 - val_loss: 0.6337 - val_accuracy: 0.8427\n",
            "Epoch 14/20\n",
            "469/469 [==============================] - 5s 11ms/step - loss: 0.6296 - accuracy: 0.8414 - val_loss: 0.5954 - val_accuracy: 0.8503\n",
            "Epoch 15/20\n",
            "469/469 [==============================] - 5s 11ms/step - loss: 0.5953 - accuracy: 0.8490 - val_loss: 0.5639 - val_accuracy: 0.8559\n",
            "Epoch 16/20\n",
            "469/469 [==============================] - 8s 17ms/step - loss: 0.5663 - accuracy: 0.8554 - val_loss: 0.5371 - val_accuracy: 0.8630\n",
            "Epoch 17/20\n",
            "469/469 [==============================] - 6s 12ms/step - loss: 0.5415 - accuracy: 0.8600 - val_loss: 0.5148 - val_accuracy: 0.8670\n",
            "Epoch 18/20\n",
            "469/469 [==============================] - 7s 16ms/step - loss: 0.5201 - accuracy: 0.8651 - val_loss: 0.4944 - val_accuracy: 0.8713\n",
            "Epoch 19/20\n",
            "469/469 [==============================] - 5s 11ms/step - loss: 0.5016 - accuracy: 0.8683 - val_loss: 0.4770 - val_accuracy: 0.8759\n",
            "Epoch 20/20\n",
            "469/469 [==============================] - 6s 13ms/step - loss: 0.4853 - accuracy: 0.8712 - val_loss: 0.4613 - val_accuracy: 0.8784\n"
          ]
        }
      ]
    },
    {
      "cell_type": "code",
      "source": [
        "\"\"\"\n",
        "evaluates the trained neural network model on the testing data (X_test and Y_test)\n",
        "prints the test score and accuracy\n",
        "\n",
        "\"\"\"\n",
        "score = model.evaluate(X_test, Y_test, verbose=0)\n",
        "print('Test score:', score[0])\n",
        "print('Test accuracy:', score[1])"
      ],
      "metadata": {
        "colab": {
          "base_uri": "https://localhost:8080/"
        },
        "id": "aWOo2LNaGV7T",
        "outputId": "c86dc615-5cb4-42fb-f4ca-a0097976d827"
      },
      "execution_count": null,
      "outputs": [
        {
          "output_type": "stream",
          "name": "stdout",
          "text": [
            "Test score: 0.3353326618671417\n",
            "Test accuracy: 0.9093999862670898\n"
          ]
        }
      ]
    },
    {
      "cell_type": "code",
      "source": [
        "\"\"\"\n",
        "image_index : random image (choose < 10000)\n",
        "\n",
        "reshape(28, 28) : the flattened image is set back into a 2D format of 28x28 pixels\n",
        "\n",
        "cmap='Greys' : image will be displayed in black and white.\n",
        "\n",
        "pred[image_index] : retrieves the predicted probabilities for the image at the specified index\n",
        "\n",
        "np.argmax() : index of the maximum value in the predicted probabilities array\n",
        "              indicating the predicted class label.\n",
        "\"\"\"\n",
        "\n",
        "image_index = 30\n",
        "plt.imshow(X_test[image_index].reshape(28, 28),cmap='Greys')\n",
        "pred = model_sigmoid.predict(X_test)\n",
        "print(pred[image_index])\n",
        "print(np.argmax(pred[image_index]))"
      ],
      "metadata": {
        "colab": {
          "base_uri": "https://localhost:8080/",
          "height": 501
        },
        "id": "Ajf4P7BkGV1R",
        "outputId": "5cef1d97-c1d4-40f0-d16a-5569a3557ec7"
      },
      "execution_count": null,
      "outputs": [
        {
          "output_type": "stream",
          "name": "stdout",
          "text": [
            "313/313 [==============================] - 1s 3ms/step\n",
            "[7.2837214e-04 1.6410019e-03 7.1181974e-04 8.9970487e-01 7.6029602e-05\n",
            " 6.8559922e-02 8.8733294e-05 1.5558334e-02 9.5163621e-03 3.4145541e-03]\n",
            "3\n"
          ]
        },
        {
          "output_type": "display_data",
          "data": {
            "text/plain": [
              "<Figure size 640x480 with 1 Axes>"
            ],
            "image/png": "[encoded data removed]"
          },
          "metadata": {}
        }
      ]
    },
    {
      "cell_type": "markdown",
      "source": [
        "# TASKS\n",
        "\n",
        "1. MLP + Sigmoid activation + ADAM Optimizer\n",
        "2. MLP + ReLu Activation + ADAM Optimizer\n",
        "3. MLP + Sigmoid Activation + Batch Normalization\n",
        "\n",
        "Create models with the above layers, estimate the performance of the model and make predictions"
      ],
      "metadata": {
        "id": "5TqDcFqS9sW8"
      }
    }
  ]
}